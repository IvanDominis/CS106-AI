{
 "cells": [
  {
   "attachments": {},
   "cell_type": "markdown",
   "metadata": {},
   "source": [
    "# Import library and some necesssary functions"
   ]
  },
  {
   "cell_type": "code",
   "execution_count": 4,
   "metadata": {},
   "outputs": [],
   "source": [
    "from ortools.algorithms import pywrapknapsack_solver\n",
    "import time\n",
    "import pandas as pd"
   ]
  },
  {
   "cell_type": "code",
   "execution_count": 5,
   "metadata": {},
   "outputs": [],
   "source": [
    "def process_data(path):\n",
    "    values = []\n",
    "    weights = []\n",
    "    capacities = []\n",
    "    with open(path) as w:\n",
    "        rows = w.read().split('\\n')\n",
    "    capacities = int(rows[2])\n",
    "    for row in rows:\n",
    "        try :\n",
    "            r1,r2 = row.split(' ')\n",
    "            values.append(int(r1))\n",
    "            weights.append(int(r2))\n",
    "        except Exception: pass\n",
    "    return values, [weights], [capacities]"
   ]
  },
  {
   "cell_type": "code",
   "execution_count": 6,
   "metadata": {},
   "outputs": [
    {
     "name": "stdout",
     "output_type": "stream",
     "text": [
      "50\n",
      "1\n",
      "[12044]\n"
     ]
    }
   ],
   "source": [
    "path = \"C:/Users/VQ/Desktop/CS106-AI/Assigment2-KnapSack-ORTools/kplib-master/00Uncorrelated/n00050/R01000/s006.kp\"\n",
    "a,b,c=process_data(path)\n",
    "print(len(a))\n",
    "print(len(b))\n",
    "print(c)"
   ]
  },
  {
   "cell_type": "code",
   "execution_count": 7,
   "metadata": {},
   "outputs": [],
   "source": [
    "def KnapSack(path):\n",
    "    \n",
    "    values, weights, capacities = process_data(path)\n",
    "    # print(values)\n",
    "    # print(weights)\n",
    "    # print(capacities)\n",
    "    # Create the solver.\n",
    "    limited_time = 150\n",
    "    solver = pywrapknapsack_solver.KnapsackSolver(\n",
    "        pywrapknapsack_solver.KnapsackSolver.\n",
    "        KNAPSACK_MULTIDIMENSION_BRANCH_AND_BOUND_SOLVER, 'KnapsackExample')\n",
    "\n",
    "    start = time.time()\n",
    "    solver.Init(values, weights, capacities)\n",
    "    solver.set_time_limit(limited_time)\n",
    "\n",
    "    computed_value = solver.Solve()\n",
    "    end = time.time()\n",
    "\n",
    "    s_time= end-start\n",
    "    optimal = 'NO'\n",
    "    if s_time < limited_time:\n",
    "        optimal = 'YES'\n",
    "\n",
    "    packed_items = []\n",
    "    packed_weights = []\n",
    "    total_weight = 0\n",
    "    # print('Total value =', computed_value)\n",
    "    for i in range(len(values)):\n",
    "        if solver.BestSolutionContains(i):\n",
    "            packed_items.append(i)\n",
    "            packed_weights.append(weights[0][i])\n",
    "            total_weight += weights[0][i]\n",
    "    # print('Total weight:', total_weight)\n",
    "    # print('Packed items:', packed_items)\n",
    "    # print('Packed_weights:', packed_weights)\n",
    "    return computed_value, total_weight, optimal, s_time\n",
    "    "
   ]
  },
  {
   "attachments": {},
   "cell_type": "markdown",
   "metadata": {},
   "source": [
    "# Requirement Variables "
   ]
  },
  {
   "cell_type": "code",
   "execution_count": 17,
   "metadata": {},
   "outputs": [],
   "source": [
    "head = ['Test_name','Computed_value','Total_weight','Optimal','Time']\n",
    "cases = ['00Uncorrelated', '01WeaklyCorrelated', '02StronglyCorrelated', '03InverseStronglyCorrelated', \n",
    "        '04AlmostStronglyCorrelated', '05SubsetSum', '06UncorrelatedWithSimilarWeights', '07SpannerUncorrelated', \n",
    "        '08SpannerWeaklyCorrelated', '09SpannerStronglyCorrelated', '10MultipleStronglyCorrelated', \n",
    "        '11ProfitCeiling', '12Circle']\n",
    "testcases = ['n00050', 'n00100' ,'n00200', 'n00500', 'n01000']\n",
    "R = 'R01000'\n",
    "rs = \"C:/Users/VQ/Desktop/CS106-AI/Assigment2-KnapSack-ORTools/results.csv\"\n",
    "path = 'C:/Users/VQ/Desktop/CS106-AI/Assigment2-KnapSack-ORTools/kplib-master/'\n",
    "output = []"
   ]
  },
  {
   "attachments": {},
   "cell_type": "markdown",
   "metadata": {},
   "source": [
    "# Test 00 - Uncorrelated"
   ]
  },
  {
   "cell_type": "code",
   "execution_count": 6,
   "metadata": {},
   "outputs": [
    {
     "name": "stdout",
     "output_type": "stream",
     "text": [
      "YES 0.0007579326629638672\n",
      "YES 0.0\n",
      "YES 0.0\n",
      "YES 0.0015001296997070312\n",
      "YES 0.0030059814453125\n"
     ]
    },
    {
     "data": {
      "text/plain": [
       "5"
      ]
     },
     "execution_count": 6,
     "metadata": {},
     "output_type": "execute_result"
    }
   ],
   "source": [
    "case = cases[0]\n",
    "for test in testcases:\n",
    "    path_n = path + case + '/' + test + '/' + R + '/' + 's006.kp'\n",
    "    test_name = case[:2] + '-' + test + '-' + R\n",
    "    values,weights,optimal,t = KnapSack(path_n)\n",
    "    print(optimal,t)\n",
    "    result = (test_name,values,weights,optimal,t)\n",
    "    output.append(result)\n",
    "len(output)"
   ]
  },
  {
   "attachments": {},
   "cell_type": "markdown",
   "metadata": {},
   "source": [
    "# Test 01 - Weakly Correlated"
   ]
  },
  {
   "cell_type": "code",
   "execution_count": 7,
   "metadata": {},
   "outputs": [
    {
     "name": "stdout",
     "output_type": "stream",
     "text": [
      "YES 0.0\n",
      "YES 0.0010428428649902344\n",
      "YES 0.0009984970092773438\n",
      "YES 0.0010161399841308594\n",
      "YES 0.005035877227783203\n"
     ]
    },
    {
     "data": {
      "text/plain": [
       "10"
      ]
     },
     "execution_count": 7,
     "metadata": {},
     "output_type": "execute_result"
    }
   ],
   "source": [
    "case = cases[1]\n",
    "for test in testcases:\n",
    "    path_n = path + case + '/' + test + '/' + R + '/' + 's006.kp'\n",
    "    test_name = case[:2] + '-' + test + '-' + R\n",
    "    values,weights,optimal,t = KnapSack(path_n)\n",
    "    print(optimal,t)\n",
    "    result = (test_name,values,weights,optimal,t)\n",
    "    output.append(result)\n",
    "len(output)"
   ]
  },
  {
   "attachments": {},
   "cell_type": "markdown",
   "metadata": {},
   "source": [
    "# Test 02 - Strongly Correlated"
   ]
  },
  {
   "cell_type": "code",
   "execution_count": 8,
   "metadata": {},
   "outputs": [
    {
     "name": "stdout",
     "output_type": "stream",
     "text": [
      "YES 0.1790459156036377\n",
      "YES 0.12126898765563965\n",
      "NO 150.06843972206116\n",
      "NO 150.06719756126404\n",
      "NO 150.03903889656067\n"
     ]
    },
    {
     "data": {
      "text/plain": [
       "15"
      ]
     },
     "execution_count": 8,
     "metadata": {},
     "output_type": "execute_result"
    }
   ],
   "source": [
    "case = cases[2]\n",
    "for test in testcases:\n",
    "    path_n = path + case + '/' + test + '/' + R + '/' + 's006.kp'\n",
    "    test_name = case[:2] + '-' + test + '-' + R\n",
    "    values,weights,optimal,t = KnapSack(path_n)\n",
    "    print(optimal,t)\n",
    "    result = (test_name,values,weights,optimal,t)\n",
    "    output.append(result)\n",
    "len(output)"
   ]
  },
  {
   "attachments": {},
   "cell_type": "markdown",
   "metadata": {},
   "source": [
    "# Test 03 - Inverse Strongly Correlated"
   ]
  },
  {
   "cell_type": "code",
   "execution_count": 9,
   "metadata": {},
   "outputs": [
    {
     "name": "stdout",
     "output_type": "stream",
     "text": [
      "YES 1.6084675788879395\n",
      "YES 51.619006395339966\n",
      "YES 1.986708641052246\n",
      "NO 150.03702902793884\n",
      "NO 150.07704401016235\n"
     ]
    },
    {
     "data": {
      "text/plain": [
       "20"
      ]
     },
     "execution_count": 9,
     "metadata": {},
     "output_type": "execute_result"
    }
   ],
   "source": [
    "case = cases[3]\n",
    "for test in testcases:\n",
    "    path_n = path + case + '/' + test + '/' + R + '/' + 's006.kp'\n",
    "    test_name = case[:2] + '-' + test + '-' + R\n",
    "    values,weights,optimal,t = KnapSack(path_n)\n",
    "    print(optimal,t)\n",
    "    result = (test_name,values,weights,optimal,t)\n",
    "    output.append(result)\n",
    "len(output)"
   ]
  },
  {
   "attachments": {},
   "cell_type": "markdown",
   "metadata": {},
   "source": [
    "# Test 04 - Almost Strongly Correlated"
   ]
  },
  {
   "cell_type": "code",
   "execution_count": 10,
   "metadata": {},
   "outputs": [
    {
     "name": "stdout",
     "output_type": "stream",
     "text": [
      "YES 0.05000662803649902\n",
      "YES 0.0186767578125\n",
      "NO 150.00729894638062\n",
      "NO 150.00703263282776\n",
      "NO 150.02973747253418\n"
     ]
    },
    {
     "data": {
      "text/plain": [
       "25"
      ]
     },
     "execution_count": 10,
     "metadata": {},
     "output_type": "execute_result"
    }
   ],
   "source": [
    "case = cases[4]\n",
    "for test in testcases:\n",
    "    path_n = path + case + '/' + test + '/' + R + '/' + 's006.kp'\n",
    "    test_name = case[:2] + '-' + test + '-' + R\n",
    "    values,weights,optimal,t = KnapSack(path_n)\n",
    "    print(optimal,t)\n",
    "    result = (test_name,values,weights,optimal,t)\n",
    "    output.append(result)\n",
    "len(output)"
   ]
  },
  {
   "attachments": {},
   "cell_type": "markdown",
   "metadata": {},
   "source": [
    "# Test 05 - Subset Sum"
   ]
  },
  {
   "cell_type": "code",
   "execution_count": 11,
   "metadata": {},
   "outputs": [
    {
     "name": "stdout",
     "output_type": "stream",
     "text": [
      "YES 0.0\n",
      "YES 0.0\n",
      "YES 0.0\n",
      "YES 0.0010046958923339844\n",
      "YES 0.0033397674560546875\n"
     ]
    },
    {
     "data": {
      "text/plain": [
       "30"
      ]
     },
     "execution_count": 11,
     "metadata": {},
     "output_type": "execute_result"
    }
   ],
   "source": [
    "case = cases[5]\n",
    "for test in testcases:\n",
    "    path_n = path + case + '/' + test + '/' + R + '/' + 's006.kp'\n",
    "    test_name = case[:2] + '-' + test + '-' + R\n",
    "    values,weights,optimal,t = KnapSack(path_n)\n",
    "    print(optimal,t)\n",
    "    result = (test_name,values,weights,optimal,t)\n",
    "    output.append(result)\n",
    "len(output)"
   ]
  },
  {
   "attachments": {},
   "cell_type": "markdown",
   "metadata": {},
   "source": [
    "# Test 06 - Uncorrelated With Similiar Weights"
   ]
  },
  {
   "cell_type": "code",
   "execution_count": 12,
   "metadata": {},
   "outputs": [
    {
     "name": "stdout",
     "output_type": "stream",
     "text": [
      "YES 0.09832763671875\n",
      "YES 0.044028282165527344\n",
      "YES 0.0\n",
      "NO 150.0279095172882\n",
      "YES 0.041001319885253906\n"
     ]
    },
    {
     "data": {
      "text/plain": [
       "35"
      ]
     },
     "execution_count": 12,
     "metadata": {},
     "output_type": "execute_result"
    }
   ],
   "source": [
    "case = cases[6]\n",
    "for test in testcases:\n",
    "    path_n = path + case + '/' + test + '/' + R + '/' + 's006.kp'\n",
    "    test_name = case[:2] + '-' + test + '-' + R\n",
    "    values,weights,optimal,t = KnapSack(path_n)\n",
    "    print(optimal,t)\n",
    "    result = (test_name,values,weights,optimal,t)\n",
    "    output.append(result)\n",
    "len(output)"
   ]
  },
  {
   "cell_type": "code",
   "execution_count": 13,
   "metadata": {},
   "outputs": [],
   "source": [
    "rs1 = \"C:/Users/VQ/Desktop/CS106-AI/Assigment2-KnapSack-ORTools/results1.csv\"\n",
    "df1 = pd.DataFrame(output,columns=head)\n",
    "df1.to_csv(rs1)"
   ]
  },
  {
   "attachments": {},
   "cell_type": "markdown",
   "metadata": {},
   "source": [
    "# Test 07 - Spanner Uncorrelated"
   ]
  },
  {
   "cell_type": "code",
   "execution_count": 18,
   "metadata": {},
   "outputs": [
    {
     "name": "stdout",
     "output_type": "stream",
     "text": [
      "YES 0.14736557006835938\n",
      "NO 150.07369565963745\n",
      "NO 150.0728943347931\n",
      "NO 150.0709593296051\n",
      "NO 150.06845426559448\n"
     ]
    },
    {
     "data": {
      "text/plain": [
       "5"
      ]
     },
     "execution_count": 18,
     "metadata": {},
     "output_type": "execute_result"
    }
   ],
   "source": [
    "case = cases[7]\n",
    "for test in testcases:\n",
    "    # if test == 'n00200': continue\n",
    "    path_n = path + case + '/' + test + '/' + R + '/' + 's006.kp'\n",
    "    test_name = case[:2] + '-' + test + '-' + R\n",
    "    values,weights,optimal,t = KnapSack(path_n)\n",
    "    print(optimal,t)\n",
    "    result = (test_name,values,weights,optimal,t)\n",
    "    output.append(result)\n",
    "len(output)"
   ]
  },
  {
   "attachments": {},
   "cell_type": "markdown",
   "metadata": {},
   "source": [
    "# Test 08 - Spanner Weakly Correlated"
   ]
  },
  {
   "cell_type": "code",
   "execution_count": 19,
   "metadata": {},
   "outputs": [
    {
     "name": "stdout",
     "output_type": "stream",
     "text": [
      "YES 0.0011088848114013672\n",
      "YES 14.251066446304321\n",
      "YES 0.9475774765014648\n",
      "NO 150.04078888893127\n",
      "NO 150.03087091445923\n"
     ]
    },
    {
     "data": {
      "text/plain": [
       "10"
      ]
     },
     "execution_count": 19,
     "metadata": {},
     "output_type": "execute_result"
    }
   ],
   "source": [
    "case = cases[8]\n",
    "for test in testcases:\n",
    "    path_n = path + case + '/' + test + '/' + R + '/' + 's006.kp'\n",
    "    test_name = case[:2] + '-' + test + '-' + R\n",
    "    values,weights,optimal,t = KnapSack(path_n)\n",
    "    print(optimal,t)\n",
    "    result = (test_name,values,weights,optimal,t)\n",
    "    output.append(result)\n",
    "len(output)"
   ]
  },
  {
   "attachments": {},
   "cell_type": "markdown",
   "metadata": {},
   "source": [
    "# Test 09 - Spanner Strongly Correlated"
   ]
  },
  {
   "cell_type": "code",
   "execution_count": 20,
   "metadata": {},
   "outputs": [
    {
     "name": "stdout",
     "output_type": "stream",
     "text": [
      "NO 150.01531314849854\n",
      "NO 150.0790274143219\n",
      "NO 150.02786898612976\n",
      "NO 150.06703567504883\n",
      "NO 150.02169275283813\n"
     ]
    },
    {
     "data": {
      "text/plain": [
       "15"
      ]
     },
     "execution_count": 20,
     "metadata": {},
     "output_type": "execute_result"
    }
   ],
   "source": [
    "case = cases[9]\n",
    "for test in testcases:\n",
    "    # if test == 'n00200': continue\n",
    "    path_n = path + case + '/' + test + '/' + R + '/' + 's006.kp'\n",
    "    test_name = case[:2] + '-' + test + '-' + R\n",
    "    values,weights,optimal,t = KnapSack(path_n)\n",
    "    print(optimal,t)\n",
    "    result = (test_name,values,weights,optimal,t)\n",
    "    output.append(result)\n",
    "len(output)"
   ]
  },
  {
   "attachments": {},
   "cell_type": "markdown",
   "metadata": {},
   "source": [
    "# Test 10 - Multiple Strongly Correlated "
   ]
  },
  {
   "cell_type": "code",
   "execution_count": 21,
   "metadata": {},
   "outputs": [
    {
     "name": "stdout",
     "output_type": "stream",
     "text": [
      "YES 0.0012803077697753906\n",
      "YES 1.8025922775268555\n",
      "YES 0.003243684768676758\n",
      "YES 0.1302475929260254\n",
      "NO 150.02974367141724\n"
     ]
    },
    {
     "data": {
      "text/plain": [
       "20"
      ]
     },
     "execution_count": 21,
     "metadata": {},
     "output_type": "execute_result"
    }
   ],
   "source": [
    "case = cases[10]\n",
    "for test in testcases:\n",
    "    path_n = path + case + '/' + test + '/' + R + '/' + 's006.kp'\n",
    "    test_name = case[:2] + '-' + test + '-' + R\n",
    "    values,weights,optimal,t = KnapSack(path_n)\n",
    "    print(optimal,t)\n",
    "    result = (test_name,values,weights,optimal,t)\n",
    "    output.append(result)\n",
    "len(output)"
   ]
  },
  {
   "attachments": {},
   "cell_type": "markdown",
   "metadata": {},
   "source": [
    "# Test 11 - Profit Celling"
   ]
  },
  {
   "cell_type": "code",
   "execution_count": 22,
   "metadata": {},
   "outputs": [
    {
     "name": "stdout",
     "output_type": "stream",
     "text": [
      "YES 0.04437685012817383\n",
      "YES 0.011998414993286133\n",
      "YES 0.04744076728820801\n",
      "NO 150.03395557403564\n",
      "NO 150.02029466629028\n"
     ]
    },
    {
     "data": {
      "text/plain": [
       "25"
      ]
     },
     "execution_count": 22,
     "metadata": {},
     "output_type": "execute_result"
    }
   ],
   "source": [
    "case = cases[11]\n",
    "for test in testcases:\n",
    "    path_n = path + case + '/' + test + '/' + R + '/' + 's006.kp'\n",
    "    test_name = case[:2] + '-' + test + '-' + R\n",
    "    values,weights,optimal,t = KnapSack(path_n)\n",
    "    print(optimal,t)\n",
    "    result = (test_name,values,weights,optimal,t)\n",
    "    output.append(result)\n",
    "len(output)"
   ]
  },
  {
   "attachments": {},
   "cell_type": "markdown",
   "metadata": {},
   "source": [
    "# Test 12 - Circle"
   ]
  },
  {
   "cell_type": "code",
   "execution_count": 23,
   "metadata": {},
   "outputs": [
    {
     "name": "stdout",
     "output_type": "stream",
     "text": [
      "YES 0.012392997741699219\n",
      "YES 0.19420194625854492\n",
      "YES 0.0010058879852294922\n",
      "NO 150.02058601379395\n",
      "NO 150.0191035270691\n"
     ]
    },
    {
     "data": {
      "text/plain": [
       "30"
      ]
     },
     "execution_count": 23,
     "metadata": {},
     "output_type": "execute_result"
    }
   ],
   "source": [
    "case = cases[12]\n",
    "for test in testcases:\n",
    "    path_n = path + case + '/' + test + '/' + R + '/' + 's006.kp'\n",
    "    test_name = case[:2] + '-' + test + '-' + R\n",
    "    values,weights,optimal,t = KnapSack(path_n)\n",
    "    print(optimal,t)\n",
    "    result = (test_name,values,weights,optimal,t)\n",
    "    output.append(result)\n",
    "len(output)"
   ]
  },
  {
   "attachments": {},
   "cell_type": "markdown",
   "metadata": {},
   "source": [
    "# Save results"
   ]
  },
  {
   "cell_type": "code",
   "execution_count": 24,
   "metadata": {},
   "outputs": [],
   "source": [
    "df = pd.DataFrame(output,columns=head)\n",
    "rs2 = \"C:/Users/VQ/Desktop/CS106-AI/Assigment2-KnapSack-ORTools/results2.csv\"\n",
    "df.to_csv(rs2)"
   ]
  }
 ],
 "metadata": {
  "kernelspec": {
   "display_name": "Python 3",
   "language": "python",
   "name": "python3"
  },
  "language_info": {
   "codemirror_mode": {
    "name": "ipython",
    "version": 3
   },
   "file_extension": ".py",
   "mimetype": "text/x-python",
   "name": "python",
   "nbconvert_exporter": "python",
   "pygments_lexer": "ipython3",
   "version": "3.11.0"
  },
  "orig_nbformat": 4
 },
 "nbformat": 4,
 "nbformat_minor": 2
}
